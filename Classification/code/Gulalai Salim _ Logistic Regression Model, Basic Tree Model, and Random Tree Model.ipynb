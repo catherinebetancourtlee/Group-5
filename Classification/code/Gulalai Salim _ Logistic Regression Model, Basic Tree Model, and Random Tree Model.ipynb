{
 "cells": [
  {
   "cell_type": "markdown",
   "metadata": {},
   "source": [
    "# Linear Classification - Logistic Regression Model"
   ]
  },
  {
   "cell_type": "code",
   "execution_count": 1,
   "metadata": {
    "scrolled": true
   },
   "outputs": [],
   "source": [
    "# Import the necessary libraries\n",
    "import pandas as pd\n",
    "import numpy as np\n",
    "from sklearn.model_selection import train_test_split\n",
    "from sklearn.linear_model import LogisticRegression\n",
    "from sklearn.metrics import accuracy_score\n",
    "from sklearn.metrics import accuracy_score, classification_report\n",
    "\n",
    "from sklearn.tree import DecisionTreeClassifier\n",
    "from sklearn.ensemble import RandomForestClassifier"
   ]
  },
  {
   "cell_type": "code",
   "execution_count": 2,
   "metadata": {},
   "outputs": [],
   "source": [
    "# Load the dataset into a Pandas dataframe\n",
    "# data = pd.read_csv('.\\\\Dataset #2 - Classification\\\\Classification.csv')\n",
    "data=pd.read_csv('fetal_health.csv')\n",
    "\n",
    "data['fetal_health'] = data['fetal_health'].replace(1.0,0)\n",
    "data['fetal_health'] = data['fetal_health'].replace(2.0,0)\n",
    "data['fetal_health'] = data['fetal_health'].replace(3.0,1)\n",
    "\n",
    "# Split the dataset into features (X) and target (y)\n",
    "X = data.drop('fetal_health', axis = 1)\n",
    "Y = data['fetal_health']\n",
    "\n",
    "# Split the data into training and testing sets\n",
    "xtr, xts, ytr, yts = train_test_split(X, Y, test_size=0.2, random_state=0)"
   ]
  },
  {
   "cell_type": "code",
   "execution_count": 3,
   "metadata": {},
   "outputs": [
    {
     "data": {
      "text/plain": [
       "LogisticRegression(max_iter=3000)"
      ]
     },
     "execution_count": 3,
     "metadata": {},
     "output_type": "execute_result"
    }
   ],
   "source": [
    "# Create a logistic regression model\n",
    "model = LogisticRegression(penalty='l2', max_iter=3000, verbose=0)\n",
    "# Train the model on the training data\n",
    "model.fit(xtr, ytr)"
   ]
  },
  {
   "cell_type": "code",
   "execution_count": 4,
   "metadata": {},
   "outputs": [
    {
     "name": "stdout",
     "output_type": "stream",
     "text": [
      "Accuracy: 0.960093896713615\n"
     ]
    }
   ],
   "source": [
    "# Make predictions on the test data\n",
    "predictions = model.predict(xts)\n",
    "\n",
    "# Calculate the accuracy of the model\n",
    "accuracy = accuracy_score(yts, predictions)\n",
    "\n",
    "# Print the accuracy of the model\n",
    "print(\"Accuracy:\", accuracy)"
   ]
  },
  {
   "cell_type": "code",
   "execution_count": 5,
   "metadata": {},
   "outputs": [
    {
     "name": "stdout",
     "output_type": "stream",
     "text": [
      "  Actual labels:  [0. 0. 0. 0. 0. 0. 0. 0. 0. 0. 1. 0. 0. 0. 0. 0. 0. 0. 0. 0.] \n",
      "Predicted labels: [0. 0. 0. 0. 0. 0. 0. 0. 0. 0. 1. 0. 0. 0. 0. 0. 0. 0. 0. 0.]\n"
     ]
    }
   ],
   "source": [
    "# taking predictions on 10 test points\n",
    "predictions_20 = model.predict(xts[:20])\n",
    "print('  Actual labels:  {} \\nPredicted labels: {}'.format(np.array(yts[:20]), predictions_20))"
   ]
  },
  {
   "cell_type": "code",
   "execution_count": 6,
   "metadata": {
    "scrolled": true
   },
   "outputs": [
    {
     "name": "stdout",
     "output_type": "stream",
     "text": [
      "\n",
      "Classification Report: \n",
      "\n",
      "               precision    recall  f1-score   support\n",
      "\n",
      "         0.0       0.97      0.98      0.98       384\n",
      "         1.0       0.84      0.74      0.78        42\n",
      "\n",
      "    accuracy                           0.96       426\n",
      "   macro avg       0.90      0.86      0.88       426\n",
      "weighted avg       0.96      0.96      0.96       426\n",
      "\n"
     ]
    }
   ],
   "source": [
    "predictions = model.predict(xts)\n",
    "print(\"\\nClassification Report: \\n\\n\", classification_report(yts, predictions, zero_division=1))"
   ]
  },
  {
   "cell_type": "code",
   "execution_count": 7,
   "metadata": {},
   "outputs": [
    {
     "data": {
      "image/png": "[encoded data removed]",
      "text/plain": [
       "<Figure size 432x288 with 1 Axes>"
      ]
     },
     "metadata": {
      "needs_background": "light"
     },
     "output_type": "display_data"
    }
   ],
   "source": [
    "import matplotlib.pyplot as plt\n",
    "from sklearn import  metrics\n",
    "metrics.plot_roc_curve(model, xts, yts)\n",
    "plt.show()"
   ]
  },
  {
   "cell_type": "markdown",
   "metadata": {},
   "source": [
    "# Classification Trees - Basic Model"
   ]
  },
  {
   "cell_type": "code",
   "execution_count": 8,
   "metadata": {},
   "outputs": [
    {
     "data": {
      "text/plain": [
       "DecisionTreeClassifier(max_depth=15)"
      ]
     },
     "execution_count": 8,
     "metadata": {},
     "output_type": "execute_result"
    }
   ],
   "source": [
    "# Create a decision tree classifier\n",
    "model_tree = DecisionTreeClassifier(splitter='best', max_depth=15)\n",
    "# Split the data into training and testing sets\n",
    "xtr, xts, ytr, yts = train_test_split(X, Y, test_size=0.2, random_state=0)\n",
    "# Train the model on the training data\n",
    "model_tree.fit(xtr, ytr)"
   ]
  },
  {
   "cell_type": "code",
   "execution_count": 9,
   "metadata": {},
   "outputs": [
    {
     "name": "stdout",
     "output_type": "stream",
     "text": [
      "Accuracy: 98.12 %\n"
     ]
    }
   ],
   "source": [
    "# Make predictions on the test data\n",
    "predictions = model_tree.predict(xts)\n",
    "\n",
    "# Calculate the accuracy of the model\n",
    "accuracy = accuracy_score(yts, predictions)\n",
    "\n",
    "# Print the accuracy of the model\n",
    "print(\"Accuracy: {:.2f} %\".format(accuracy*100))"
   ]
  },
  {
   "cell_type": "code",
   "execution_count": 10,
   "metadata": {},
   "outputs": [
    {
     "name": "stdout",
     "output_type": "stream",
     "text": [
      "  Actual labels:  [0. 0. 0. 0. 0. 0. 0. 0. 0. 0. 1. 0. 0. 0. 0. 0. 0. 0. 0. 0.] \n",
      "Predicted labels: [0. 0. 0. 0. 0. 0. 0. 0. 0. 0. 1. 0. 0. 0. 0. 0. 0. 0. 0. 0.]\n"
     ]
    }
   ],
   "source": [
    "predictions_20 = model_tree.predict(xts[:20])\n",
    "print('  Actual labels:  {} \\nPredicted labels: {}'.format(np.array(yts[:20]), predictions_20))"
   ]
  },
  {
   "cell_type": "code",
   "execution_count": 11,
   "metadata": {},
   "outputs": [
    {
     "name": "stdout",
     "output_type": "stream",
     "text": [
      "\n",
      "Classification Report: \n",
      "\n",
      "               precision    recall  f1-score   support\n",
      "\n",
      "         0.0       0.98      0.99      0.99       384\n",
      "         1.0       0.95      0.86      0.90        42\n",
      "\n",
      "    accuracy                           0.98       426\n",
      "   macro avg       0.97      0.93      0.94       426\n",
      "weighted avg       0.98      0.98      0.98       426\n",
      "\n"
     ]
    }
   ],
   "source": [
    "print(\"\\nClassification Report: \\n\\n\", classification_report(yts, predictions, zero_division=1))"
   ]
  },
  {
   "cell_type": "code",
   "execution_count": 12,
   "metadata": {},
   "outputs": [
    {
     "data": {
      "image/png": "[encoded data removed]",
      "text/plain": [
       "<Figure size 432x288 with 1 Axes>"
      ]
     },
     "metadata": {
      "needs_background": "light"
     },
     "output_type": "display_data"
    }
   ],
   "source": [
    "metrics.plot_roc_curve(model_tree, xts, yts)\n",
    "plt.show()"
   ]
  },
  {
   "cell_type": "markdown",
   "metadata": {},
   "source": [
    "# Classification Trees - \"Random\" Model"
   ]
  },
  {
   "cell_type": "code",
   "execution_count": 13,
   "metadata": {},
   "outputs": [
    {
     "data": {
      "text/plain": [
       "RandomForestClassifier(random_state=0)"
      ]
     },
     "execution_count": 13,
     "metadata": {},
     "output_type": "execute_result"
    }
   ],
   "source": [
    "# Create Random Forest classifier with 100 trees\n",
    "rfc = RandomForestClassifier(n_estimators=100, random_state=0)\n",
    "\n",
    "# Fit the model to the training data\n",
    "rfc.fit(xtr, ytr)"
   ]
  },
  {
   "cell_type": "code",
   "execution_count": 14,
   "metadata": {},
   "outputs": [
    {
     "name": "stdout",
     "output_type": "stream",
     "text": [
      "Accuracy: 0.9906103286384976\n"
     ]
    }
   ],
   "source": [
    "# Make predictions on test data\n",
    "y_pred = rfc.predict(xts)\n",
    "\n",
    "# Evaluate the model performance\n",
    "accuracy = accuracy_score(yts, y_pred)\n",
    "print(\"Accuracy:\", accuracy)"
   ]
  },
  {
   "cell_type": "code",
   "execution_count": 15,
   "metadata": {},
   "outputs": [
    {
     "name": "stdout",
     "output_type": "stream",
     "text": [
      "\n",
      "Classification Report: \n",
      "\n",
      "               precision    recall  f1-score   support\n",
      "\n",
      "         0.0       0.99      1.00      0.99       384\n",
      "         1.0       0.97      0.93      0.95        42\n",
      "\n",
      "    accuracy                           0.99       426\n",
      "   macro avg       0.98      0.96      0.97       426\n",
      "weighted avg       0.99      0.99      0.99       426\n",
      "\n"
     ]
    }
   ],
   "source": [
    "print(\"\\nClassification Report: \\n\\n\", classification_report(yts, y_pred))"
   ]
  },
  {
   "cell_type": "code",
   "execution_count": 16,
   "metadata": {},
   "outputs": [
    {
     "name": "stdout",
     "output_type": "stream",
     "text": [
      "  Actual labels:  [0. 0. 0. 0. 0. 0. 0. 0. 0. 0. 1. 0. 0. 0. 0. 0. 0. 0. 0. 0.] \n",
      "Predicted labels: [0. 0. 0. 0. 0. 0. 0. 0. 0. 0. 1. 0. 0. 0. 0. 0. 0. 0. 0. 0.]\n"
     ]
    }
   ],
   "source": [
    "y_pred = rfc.predict(xts[:20])\n",
    "print('  Actual labels:  {} \\nPredicted labels: {}'.format(np.array(yts[:20]), y_pred))"
   ]
  },
  {
   "cell_type": "code",
   "execution_count": 17,
   "metadata": {},
   "outputs": [
    {
     "data": {
      "image/png": "[encoded data removed]",
      "text/plain": [
       "<Figure size 432x288 with 1 Axes>"
      ]
     },
     "metadata": {
      "needs_background": "light"
     },
     "output_type": "display_data"
    }
   ],
   "source": [
    "metrics.plot_roc_curve(rfc, xts, yts)\n",
    "plt.show()"
   ]
  }
 ],
 "metadata": {
  "kernelspec": {
   "display_name": "Python 3",
   "language": "python",
   "name": "python3"
  },
  "language_info": {
   "codemirror_mode": {
    "name": "ipython",
    "version": 3
   },
   "file_extension": ".py",
   "mimetype": "text/x-python",
   "name": "python",
   "nbconvert_exporter": "python",
   "pygments_lexer": "ipython3",
   "version": "3.8.8"
  }
 },
 "nbformat": 4,
 "nbformat_minor": 4
}
