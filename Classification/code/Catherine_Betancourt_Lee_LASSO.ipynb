{
 "cells": [
  {
   "cell_type": "code",
   "execution_count": 140,
   "metadata": {},
   "outputs": [],
   "source": [
    "from sklearn.linear_model import LogisticRegression\n",
    "from sklearn.model_selection import train_test_split\n",
    "from sklearn.metrics import f1_score, confusion_matrix, plot_confusion_matrix, plot_roc_curve, accuracy_score, recall_score, precision_score, balanced_accuracy_score, roc_auc_score\n",
    "import pandas as pd\n",
    "import matplotlib.pyplot as plt\n"
   ]
  },
  {
   "cell_type": "code",
   "execution_count": 141,
   "metadata": {},
   "outputs": [],
   "source": [
    "#load data from CSV file\n",
    "data = pd.read_csv(\"/Users/catherinebetancourt-lee/Desktop/fetal_health.csv.csv\")"
   ]
  },
  {
   "cell_type": "code",
   "execution_count": 142,
   "metadata": {},
   "outputs": [],
   "source": [
    "#Merging classification classes into binary \n",
    "data['fetal_health'] = data['fetal_health'].replace(1.0,0)\n",
    "data['fetal_health'] = data['fetal_health'].replace(2.0,0)\n",
    "data['fetal_health'] = data['fetal_health'].replace(3.0,1)"
   ]
  },
  {
   "cell_type": "code",
   "execution_count": 143,
   "metadata": {},
   "outputs": [
    {
     "data": {
      "text/plain": [
       "0       0\n",
       "1       0\n",
       "2       0\n",
       "3       0\n",
       "4       0\n",
       "       ..\n",
       "2121    0\n",
       "2122    0\n",
       "2123    0\n",
       "2124    0\n",
       "2125    0\n",
       "Name: fetal_health, Length: 2126, dtype: int64"
      ]
     },
     "execution_count": 143,
     "metadata": {},
     "output_type": "execute_result"
    }
   ],
   "source": [
    "#Separate data and target variables\n",
    "X = data.drop('fetal_health', axis = 1)\n",
    "X\n",
    "y = data['fetal_health']\n",
    "y"
   ]
  },
  {
   "cell_type": "code",
   "execution_count": 144,
   "metadata": {},
   "outputs": [],
   "source": [
    "#split model into training and testing sets \n",
    "X_train, X_test, y_train, y_test = train_test_split(X,y,test_size=0.2,random_state=142)"
   ]
  },
  {
   "cell_type": "code",
   "execution_count": 145,
   "metadata": {},
   "outputs": [],
   "source": [
    "#We need to create the LASSO model\n",
    "#penalty = L1 to apply the regularization, and then set saga for larger datasets.\n",
    "#C = inverse of regularization strength to 0.1\n",
    "lasso_model = LogisticRegression(penalty = 'l1', solver='saga', C=0.1)"
   ]
  },
  {
   "cell_type": "code",
   "execution_count": 146,
   "metadata": {},
   "outputs": [
    {
     "name": "stderr",
     "output_type": "stream",
     "text": [
      "/Users/catherinebetancourt-lee/opt/anaconda3/lib/python3.9/site-packages/sklearn/linear_model/_sag.py:352: ConvergenceWarning: The max_iter was reached which means the coef_ did not converge\n",
      "  warnings.warn(\n"
     ]
    },
    {
     "data": {
      "text/plain": [
       "LogisticRegression(C=0.1, penalty='l1', solver='saga')"
      ]
     },
     "execution_count": 146,
     "metadata": {},
     "output_type": "execute_result"
    }
   ],
   "source": [
    "#fit the model into the training data\n",
    "lasso_model.fit(X_train, y_train)"
   ]
  },
  {
   "cell_type": "code",
   "execution_count": 147,
   "metadata": {},
   "outputs": [],
   "source": [
    "#predict on testing set\n",
    "y_pred = lasso_model.predict(X_test)\n"
   ]
  },
  {
   "cell_type": "code",
   "execution_count": 148,
   "metadata": {},
   "outputs": [
    {
     "name": "stdout",
     "output_type": "stream",
     "text": [
      "Accuracy: 0.9624413145539906\n",
      "F1 Score 0.7419354838709677\n",
      "Balanced Accuracy: 0.8234563390573622\n",
      "Recall Score: 0.6571428571428571\n",
      "Precision Score: 0.8518518518518519\n",
      "AUC Score: 0.823456339057362\n",
      "Confusion matrix:\n",
      "[[387   4]\n",
      " [ 12  23]]\n"
     ]
    }
   ],
   "source": [
    "#metrics\n",
    "accuracy = accuracy_score(y_test, y_pred)\n",
    "print(\"Accuracy:\", accuracy)\n",
    "f1 = f1_score(y_test, y_pred)\n",
    "print(\"F1 Score\", f1)\n",
    "balanced_acc = balanced_accuracy_score(y_test, y_pred)\n",
    "print(\"Balanced Accuracy:\", balanced_acc)\n",
    "recall = recall_score(y_test, y_pred)\n",
    "print(\"Recall Score:\", recall)\n",
    "precision = precision_score(y_test, y_pred)\n",
    "print(\"Precision Score:\", precision)\n",
    "auc = roc_auc_score(y_test, y_pred)\n",
    "print(\"AUC Score:\", auc)\n",
    "cm = confusion_matrix(y_test, y_pred)\n",
    "print(\"Confusion matrix:\")\n",
    "print(cm)"
   ]
  }
 ],
 "metadata": {
  "kernelspec": {
   "display_name": "base",
   "language": "python",
   "name": "python3"
  },
  "language_info": {
   "codemirror_mode": {
    "name": "ipython",
    "version": 3
   },
   "file_extension": ".py",
   "mimetype": "text/x-python",
   "name": "python",
   "nbconvert_exporter": "python",
   "pygments_lexer": "ipython3",
   "version": "3.9.13"
  },
  "orig_nbformat": 4,
  "vscode": {
   "interpreter": {
    "hash": "3756560aa519b841bbc6813b46dfcb576f57d96e1ad2a304831f7d649679b615"
   }
  }
 },
 "nbformat": 4,
 "nbformat_minor": 2
}
