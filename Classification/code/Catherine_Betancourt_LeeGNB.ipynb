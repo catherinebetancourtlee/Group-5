{
 "cells": [
  {
   "cell_type": "code",
   "execution_count": 2,
   "metadata": {},
   "outputs": [
    {
     "name": "stdout",
     "output_type": "stream",
     "text": [
      "Accuracy: 0.9272300469483568\n",
      "F1 Score 0.6265060240963857\n",
      "Balanced Accuracy: 0.8432955791012058\n",
      "Recall Score: 0.7428571428571429\n",
      "Precision Score: 0.5416666666666666\n",
      "AUC Score: 0.8432955791012057\n",
      "Confusion matrix:\n",
      "[[369  22]\n",
      " [  9  26]]\n"
     ]
    }
   ],
   "source": [
    "from sklearn.datasets import load_iris\n",
    "from sklearn.model_selection import train_test_split\n",
    "from sklearn.naive_bayes import GaussianNB\n",
    "from sklearn.metrics import f1_score, confusion_matrix, plot_confusion_matrix, plot_roc_curve, accuracy_score, recall_score, precision_score, balanced_accuracy_score, roc_auc_score\n",
    "import pandas as pd\n",
    "import matplotlib.pyplot as plt\n",
    "\n",
    "#load data from CSV file\n",
    "data = pd.read_csv(\"/Users/catherinebetancourt-lee/Desktop/fetal_health.csv.csv\")\n",
    "\n",
    "#Merging classification classes into binary \n",
    "data['fetal_health'] = data['fetal_health'].replace(1.0,0)\n",
    "data['fetal_health'] = data['fetal_health'].replace(2.0,0)\n",
    "data['fetal_health'] = data['fetal_health'].replace(3.0,1)\n",
    "\n",
    "#Separate data and target variables\n",
    "X = data.drop('fetal_health', axis = 1)\n",
    "y = data['fetal_health']\n",
    "\n",
    "#split model into training and testing sets \n",
    "X_train, X_test, y_train, y_test = train_test_split(X,y,test_size=0.2,random_state=142)\n",
    "\n",
    "#Create Gaussian Naive Bayes classifier \n",
    "gnb_classifier = GaussianNB()\n",
    "gnb_classifier.fit(X_train, y_train)\n",
    "\n",
    "#predictions\n",
    "y_pred = gnb_classifier.predict(X_test)\n",
    "\n",
    "#metrics\n",
    "accuracy = accuracy_score(y_test, y_pred)\n",
    "print(\"Accuracy:\", accuracy)\n",
    "f1 = f1_score(y_test, y_pred)\n",
    "print(\"F1 Score\", f1)\n",
    "balanced_acc = balanced_accuracy_score(y_test, y_pred)\n",
    "print(\"Balanced Accuracy:\", balanced_acc)\n",
    "recall = recall_score(y_test, y_pred)\n",
    "print(\"Recall Score:\", recall)\n",
    "precision = precision_score(y_test, y_pred)\n",
    "print(\"Precision Score:\", precision)\n",
    "auc = roc_auc_score(y_test, y_pred)\n",
    "print(\"AUC Score:\", auc)\n",
    "cm = confusion_matrix(y_test, y_pred)\n",
    "print(\"Confusion matrix:\")\n",
    "print(cm)"
   ]
  },
  {
   "cell_type": "code",
   "execution_count": null,
   "metadata": {},
   "outputs": [],
   "source": []
  }
 ],
 "metadata": {
  "kernelspec": {
   "display_name": "base",
   "language": "python",
   "name": "python3"
  },
  "language_info": {
   "codemirror_mode": {
    "name": "ipython",
    "version": 3
   },
   "file_extension": ".py",
   "mimetype": "text/x-python",
   "name": "python",
   "nbconvert_exporter": "python",
   "pygments_lexer": "ipython3",
   "version": "3.9.13 (main, Aug 25 2022, 18:29:29) \n[Clang 12.0.0 ]"
  },
  "orig_nbformat": 4,
  "vscode": {
   "interpreter": {
    "hash": "3756560aa519b841bbc6813b46dfcb576f57d96e1ad2a304831f7d649679b615"
   }
  }
 },
 "nbformat": 4,
 "nbformat_minor": 2
}
