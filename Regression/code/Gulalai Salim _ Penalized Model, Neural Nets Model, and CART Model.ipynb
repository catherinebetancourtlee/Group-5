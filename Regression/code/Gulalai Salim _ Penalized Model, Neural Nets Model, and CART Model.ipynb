{
 "cells": [
  {
   "cell_type": "markdown",
   "metadata": {},
   "source": [
    "# Linear Regression - Penalized Model"
   ]
  },
  {
   "cell_type": "code",
   "execution_count": 2,
   "metadata": {},
   "outputs": [],
   "source": [
    "#Table like structure\n",
    "import pandas as pd\n",
    "\n",
    "#numerical computation\n",
    "import numpy as np\n",
    "\n",
    "\n",
    "#scikit learn\n",
    "#Ridge regression model\n",
    "from sklearn.linear_model import Ridge\n",
    "\n",
    "from sklearn.model_selection import train_test_split\n",
    "from sklearn.metrics import mean_squared_error, r2_score\n",
    "\n",
    "#Simple decision tree\n",
    "from sklearn.tree import DecisionTreeRegressor\n",
    "from math import sqrt\n",
    "\n",
    "\n",
    "\n",
    "\n",
    "#import pytorch\n",
    "import torch\n",
    "import torch.nn as nn\n",
    "import torch.optim as optim\n",
    "#Used for normalizing the data\n",
    "from sklearn.preprocessing import StandardScaler\n",
    "\n",
    "#For generating graphs\n",
    "import matplotlib.pyplot as plt\n"
   ]
  },
  {
   "cell_type": "code",
   "execution_count": 3,
   "metadata": {
    "scrolled": true
   },
   "outputs": [
    {
     "data": {
      "text/html": [
       "<div>\n",
       "<style scoped>\n",
       "    .dataframe tbody tr th:only-of-type {\n",
       "        vertical-align: middle;\n",
       "    }\n",
       "\n",
       "    .dataframe tbody tr th {\n",
       "        vertical-align: top;\n",
       "    }\n",
       "\n",
       "    .dataframe thead th {\n",
       "        text-align: right;\n",
       "    }\n",
       "</style>\n",
       "<table border=\"1\" class=\"dataframe\">\n",
       "  <thead>\n",
       "    <tr style=\"text-align: right;\">\n",
       "      <th></th>\n",
       "      <th>S.No</th>\n",
       "      <th>Left-Lateral-Ventricle</th>\n",
       "      <th>Left-Inf-Lat-Vent</th>\n",
       "      <th>Left-Cerebellum-White-Matter</th>\n",
       "      <th>Left-Cerebellum-Cortex</th>\n",
       "      <th>Left-Thalamus</th>\n",
       "      <th>Left-Caudate</th>\n",
       "      <th>Left-Putamen</th>\n",
       "      <th>Left-Pallidum</th>\n",
       "      <th>3rd-Ventricle</th>\n",
       "      <th>...</th>\n",
       "      <th>rh_supramarginal_thickness</th>\n",
       "      <th>rh_frontalpole_thickness</th>\n",
       "      <th>rh_temporalpole_thickness</th>\n",
       "      <th>rh_transversetemporal_thickness</th>\n",
       "      <th>rh_insula_thickness</th>\n",
       "      <th>rh_MeanThickness_thickness</th>\n",
       "      <th>BrainSegVolNotVent.2</th>\n",
       "      <th>eTIV.1</th>\n",
       "      <th>Age</th>\n",
       "      <th>dataset</th>\n",
       "    </tr>\n",
       "  </thead>\n",
       "  <tbody>\n",
       "    <tr>\n",
       "      <th>0</th>\n",
       "      <td>1</td>\n",
       "      <td>22916.9</td>\n",
       "      <td>982.7</td>\n",
       "      <td>15196.7</td>\n",
       "      <td>55796.4</td>\n",
       "      <td>6855.5</td>\n",
       "      <td>2956.4</td>\n",
       "      <td>4240.7</td>\n",
       "      <td>2223.9</td>\n",
       "      <td>2034.4</td>\n",
       "      <td>...</td>\n",
       "      <td>2.408</td>\n",
       "      <td>2.629</td>\n",
       "      <td>3.519</td>\n",
       "      <td>2.009</td>\n",
       "      <td>2.825</td>\n",
       "      <td>2.33635</td>\n",
       "      <td>1093846</td>\n",
       "      <td>1619602.965</td>\n",
       "      <td>85</td>\n",
       "      <td>1</td>\n",
       "    </tr>\n",
       "    <tr>\n",
       "      <th>1</th>\n",
       "      <td>2</td>\n",
       "      <td>22953.2</td>\n",
       "      <td>984.5</td>\n",
       "      <td>15289.7</td>\n",
       "      <td>55778.6</td>\n",
       "      <td>6835.1</td>\n",
       "      <td>3064.2</td>\n",
       "      <td>4498.6</td>\n",
       "      <td>2354.1</td>\n",
       "      <td>1927.1</td>\n",
       "      <td>...</td>\n",
       "      <td>2.417</td>\n",
       "      <td>2.640</td>\n",
       "      <td>3.488</td>\n",
       "      <td>2.111</td>\n",
       "      <td>2.720</td>\n",
       "      <td>2.34202</td>\n",
       "      <td>1099876</td>\n",
       "      <td>1624755.130</td>\n",
       "      <td>85</td>\n",
       "      <td>1</td>\n",
       "    </tr>\n",
       "    <tr>\n",
       "      <th>2</th>\n",
       "      <td>3</td>\n",
       "      <td>23320.4</td>\n",
       "      <td>1062.1</td>\n",
       "      <td>15382.1</td>\n",
       "      <td>55551.2</td>\n",
       "      <td>7566.0</td>\n",
       "      <td>3231.7</td>\n",
       "      <td>4456.2</td>\n",
       "      <td>1995.4</td>\n",
       "      <td>2064.7</td>\n",
       "      <td>...</td>\n",
       "      <td>2.374</td>\n",
       "      <td>2.601</td>\n",
       "      <td>3.342</td>\n",
       "      <td>2.146</td>\n",
       "      <td>2.684</td>\n",
       "      <td>2.31982</td>\n",
       "      <td>1097999</td>\n",
       "      <td>1622609.518</td>\n",
       "      <td>86</td>\n",
       "      <td>1</td>\n",
       "    </tr>\n",
       "    <tr>\n",
       "      <th>3</th>\n",
       "      <td>4</td>\n",
       "      <td>24360.0</td>\n",
       "      <td>1000.5</td>\n",
       "      <td>14805.4</td>\n",
       "      <td>54041.8</td>\n",
       "      <td>8004.6</td>\n",
       "      <td>3137.3</td>\n",
       "      <td>4262.2</td>\n",
       "      <td>1983.4</td>\n",
       "      <td>2017.7</td>\n",
       "      <td>...</td>\n",
       "      <td>2.366</td>\n",
       "      <td>2.639</td>\n",
       "      <td>3.361</td>\n",
       "      <td>2.056</td>\n",
       "      <td>2.700</td>\n",
       "      <td>2.29215</td>\n",
       "      <td>1070117</td>\n",
       "      <td>1583854.236</td>\n",
       "      <td>87</td>\n",
       "      <td>1</td>\n",
       "    </tr>\n",
       "    <tr>\n",
       "      <th>4</th>\n",
       "      <td>5</td>\n",
       "      <td>25769.4</td>\n",
       "      <td>1124.4</td>\n",
       "      <td>16331.1</td>\n",
       "      <td>54108.6</td>\n",
       "      <td>6677.4</td>\n",
       "      <td>2964.4</td>\n",
       "      <td>4204.6</td>\n",
       "      <td>2409.7</td>\n",
       "      <td>2251.8</td>\n",
       "      <td>...</td>\n",
       "      <td>2.381</td>\n",
       "      <td>2.555</td>\n",
       "      <td>3.450</td>\n",
       "      <td>2.052</td>\n",
       "      <td>2.574</td>\n",
       "      <td>2.30397</td>\n",
       "      <td>1075926</td>\n",
       "      <td>1617375.362</td>\n",
       "      <td>89</td>\n",
       "      <td>1</td>\n",
       "    </tr>\n",
       "  </tbody>\n",
       "</table>\n",
       "<p>5 rows × 141 columns</p>\n",
       "</div>"
      ],
      "text/plain": [
       "   S.No  Left-Lateral-Ventricle  Left-Inf-Lat-Vent  \\\n",
       "0     1                 22916.9              982.7   \n",
       "1     2                 22953.2              984.5   \n",
       "2     3                 23320.4             1062.1   \n",
       "3     4                 24360.0             1000.5   \n",
       "4     5                 25769.4             1124.4   \n",
       "\n",
       "   Left-Cerebellum-White-Matter  Left-Cerebellum-Cortex  Left-Thalamus  \\\n",
       "0                       15196.7                 55796.4         6855.5   \n",
       "1                       15289.7                 55778.6         6835.1   \n",
       "2                       15382.1                 55551.2         7566.0   \n",
       "3                       14805.4                 54041.8         8004.6   \n",
       "4                       16331.1                 54108.6         6677.4   \n",
       "\n",
       "   Left-Caudate  Left-Putamen  Left-Pallidum  3rd-Ventricle  ...  \\\n",
       "0        2956.4        4240.7         2223.9         2034.4  ...   \n",
       "1        3064.2        4498.6         2354.1         1927.1  ...   \n",
       "2        3231.7        4456.2         1995.4         2064.7  ...   \n",
       "3        3137.3        4262.2         1983.4         2017.7  ...   \n",
       "4        2964.4        4204.6         2409.7         2251.8  ...   \n",
       "\n",
       "   rh_supramarginal_thickness  rh_frontalpole_thickness  \\\n",
       "0                       2.408                     2.629   \n",
       "1                       2.417                     2.640   \n",
       "2                       2.374                     2.601   \n",
       "3                       2.366                     2.639   \n",
       "4                       2.381                     2.555   \n",
       "\n",
       "   rh_temporalpole_thickness  rh_transversetemporal_thickness  \\\n",
       "0                      3.519                            2.009   \n",
       "1                      3.488                            2.111   \n",
       "2                      3.342                            2.146   \n",
       "3                      3.361                            2.056   \n",
       "4                      3.450                            2.052   \n",
       "\n",
       "   rh_insula_thickness  rh_MeanThickness_thickness  BrainSegVolNotVent.2  \\\n",
       "0                2.825                     2.33635               1093846   \n",
       "1                2.720                     2.34202               1099876   \n",
       "2                2.684                     2.31982               1097999   \n",
       "3                2.700                     2.29215               1070117   \n",
       "4                2.574                     2.30397               1075926   \n",
       "\n",
       "        eTIV.1  Age  dataset  \n",
       "0  1619602.965   85        1  \n",
       "1  1624755.130   85        1  \n",
       "2  1622609.518   86        1  \n",
       "3  1583854.236   87        1  \n",
       "4  1617375.362   89        1  \n",
       "\n",
       "[5 rows x 141 columns]"
      ]
     },
     "execution_count": 3,
     "metadata": {},
     "output_type": "execute_result"
    }
   ],
   "source": [
    "# Load the dataset and show its first 5 rows\n",
    "data = pd.read_excel('.\\\\Dataset #1 - Regression (Brain Age Prediction)\\\\Volumetric_features.xlsx')\n",
    "data.head()"
   ]
  },
  {
   "cell_type": "code",
   "execution_count": 4,
   "metadata": {
    "scrolled": true
   },
   "outputs": [
    {
     "data": {
      "text/html": [
       "<div>\n",
       "<style scoped>\n",
       "    .dataframe tbody tr th:only-of-type {\n",
       "        vertical-align: middle;\n",
       "    }\n",
       "\n",
       "    .dataframe tbody tr th {\n",
       "        vertical-align: top;\n",
       "    }\n",
       "\n",
       "    .dataframe thead th {\n",
       "        text-align: right;\n",
       "    }\n",
       "</style>\n",
       "<table border=\"1\" class=\"dataframe\">\n",
       "  <thead>\n",
       "    <tr style=\"text-align: right;\">\n",
       "      <th></th>\n",
       "      <th>S.No</th>\n",
       "      <th>Left-Lateral-Ventricle</th>\n",
       "      <th>Left-Inf-Lat-Vent</th>\n",
       "      <th>Left-Cerebellum-White-Matter</th>\n",
       "      <th>Left-Cerebellum-Cortex</th>\n",
       "      <th>Left-Thalamus</th>\n",
       "      <th>Left-Caudate</th>\n",
       "      <th>Left-Putamen</th>\n",
       "      <th>Left-Pallidum</th>\n",
       "      <th>3rd-Ventricle</th>\n",
       "      <th>...</th>\n",
       "      <th>rh_superiortemporal_thickness</th>\n",
       "      <th>rh_supramarginal_thickness</th>\n",
       "      <th>rh_frontalpole_thickness</th>\n",
       "      <th>rh_temporalpole_thickness</th>\n",
       "      <th>rh_transversetemporal_thickness</th>\n",
       "      <th>rh_insula_thickness</th>\n",
       "      <th>rh_MeanThickness_thickness</th>\n",
       "      <th>BrainSegVolNotVent.2</th>\n",
       "      <th>eTIV.1</th>\n",
       "      <th>dataset</th>\n",
       "    </tr>\n",
       "  </thead>\n",
       "  <tbody>\n",
       "    <tr>\n",
       "      <th>883</th>\n",
       "      <td>884</td>\n",
       "      <td>18276.2</td>\n",
       "      <td>488.6</td>\n",
       "      <td>15488.8</td>\n",
       "      <td>60165.9</td>\n",
       "      <td>6753.3</td>\n",
       "      <td>3973.9</td>\n",
       "      <td>5154.7</td>\n",
       "      <td>2247.5</td>\n",
       "      <td>2230.6</td>\n",
       "      <td>...</td>\n",
       "      <td>2.531</td>\n",
       "      <td>2.323</td>\n",
       "      <td>2.423</td>\n",
       "      <td>3.351</td>\n",
       "      <td>2.447</td>\n",
       "      <td>2.759</td>\n",
       "      <td>2.26196</td>\n",
       "      <td>1210251</td>\n",
       "      <td>1753222.710</td>\n",
       "      <td>1</td>\n",
       "    </tr>\n",
       "    <tr>\n",
       "      <th>2404</th>\n",
       "      <td>2405</td>\n",
       "      <td>19564.2</td>\n",
       "      <td>1550.6</td>\n",
       "      <td>11636.4</td>\n",
       "      <td>50535.2</td>\n",
       "      <td>5335.3</td>\n",
       "      <td>3155.9</td>\n",
       "      <td>3791.9</td>\n",
       "      <td>1453.2</td>\n",
       "      <td>1918.1</td>\n",
       "      <td>...</td>\n",
       "      <td>2.708</td>\n",
       "      <td>2.330</td>\n",
       "      <td>2.502</td>\n",
       "      <td>2.974</td>\n",
       "      <td>2.195</td>\n",
       "      <td>2.686</td>\n",
       "      <td>2.24386</td>\n",
       "      <td>968762</td>\n",
       "      <td>1386457.527</td>\n",
       "      <td>5</td>\n",
       "    </tr>\n",
       "    <tr>\n",
       "      <th>1699</th>\n",
       "      <td>1700</td>\n",
       "      <td>14076.8</td>\n",
       "      <td>718.0</td>\n",
       "      <td>17377.2</td>\n",
       "      <td>54915.0</td>\n",
       "      <td>7591.1</td>\n",
       "      <td>3143.6</td>\n",
       "      <td>4072.2</td>\n",
       "      <td>1816.3</td>\n",
       "      <td>1710.6</td>\n",
       "      <td>...</td>\n",
       "      <td>2.872</td>\n",
       "      <td>2.436</td>\n",
       "      <td>2.518</td>\n",
       "      <td>3.951</td>\n",
       "      <td>2.571</td>\n",
       "      <td>2.859</td>\n",
       "      <td>2.44303</td>\n",
       "      <td>1213217</td>\n",
       "      <td>1587806.747</td>\n",
       "      <td>4</td>\n",
       "    </tr>\n",
       "    <tr>\n",
       "      <th>3380</th>\n",
       "      <td>3381</td>\n",
       "      <td>9147.3</td>\n",
       "      <td>274.4</td>\n",
       "      <td>14968.5</td>\n",
       "      <td>55712.8</td>\n",
       "      <td>7974.4</td>\n",
       "      <td>3665.7</td>\n",
       "      <td>6010.0</td>\n",
       "      <td>2108.9</td>\n",
       "      <td>981.6</td>\n",
       "      <td>...</td>\n",
       "      <td>2.807</td>\n",
       "      <td>2.555</td>\n",
       "      <td>2.814</td>\n",
       "      <td>3.612</td>\n",
       "      <td>2.259</td>\n",
       "      <td>3.057</td>\n",
       "      <td>2.51059</td>\n",
       "      <td>1098123</td>\n",
       "      <td>1418487.708</td>\n",
       "      <td>8</td>\n",
       "    </tr>\n",
       "    <tr>\n",
       "      <th>2284</th>\n",
       "      <td>2285</td>\n",
       "      <td>16839.5</td>\n",
       "      <td>1651.2</td>\n",
       "      <td>12847.5</td>\n",
       "      <td>41962.7</td>\n",
       "      <td>4724.7</td>\n",
       "      <td>3129.7</td>\n",
       "      <td>3110.3</td>\n",
       "      <td>1389.7</td>\n",
       "      <td>1917.6</td>\n",
       "      <td>...</td>\n",
       "      <td>2.184</td>\n",
       "      <td>2.076</td>\n",
       "      <td>2.528</td>\n",
       "      <td>2.447</td>\n",
       "      <td>2.080</td>\n",
       "      <td>2.569</td>\n",
       "      <td>2.17751</td>\n",
       "      <td>729661</td>\n",
       "      <td>1237152.881</td>\n",
       "      <td>5</td>\n",
       "    </tr>\n",
       "  </tbody>\n",
       "</table>\n",
       "<p>5 rows × 140 columns</p>\n",
       "</div>"
      ],
      "text/plain": [
       "      S.No  Left-Lateral-Ventricle  Left-Inf-Lat-Vent  \\\n",
       "883    884                 18276.2              488.6   \n",
       "2404  2405                 19564.2             1550.6   \n",
       "1699  1700                 14076.8              718.0   \n",
       "3380  3381                  9147.3              274.4   \n",
       "2284  2285                 16839.5             1651.2   \n",
       "\n",
       "      Left-Cerebellum-White-Matter  Left-Cerebellum-Cortex  Left-Thalamus  \\\n",
       "883                        15488.8                 60165.9         6753.3   \n",
       "2404                       11636.4                 50535.2         5335.3   \n",
       "1699                       17377.2                 54915.0         7591.1   \n",
       "3380                       14968.5                 55712.8         7974.4   \n",
       "2284                       12847.5                 41962.7         4724.7   \n",
       "\n",
       "      Left-Caudate  Left-Putamen  Left-Pallidum  3rd-Ventricle  ...  \\\n",
       "883         3973.9        5154.7         2247.5         2230.6  ...   \n",
       "2404        3155.9        3791.9         1453.2         1918.1  ...   \n",
       "1699        3143.6        4072.2         1816.3         1710.6  ...   \n",
       "3380        3665.7        6010.0         2108.9          981.6  ...   \n",
       "2284        3129.7        3110.3         1389.7         1917.6  ...   \n",
       "\n",
       "      rh_superiortemporal_thickness  rh_supramarginal_thickness  \\\n",
       "883                           2.531                       2.323   \n",
       "2404                          2.708                       2.330   \n",
       "1699                          2.872                       2.436   \n",
       "3380                          2.807                       2.555   \n",
       "2284                          2.184                       2.076   \n",
       "\n",
       "      rh_frontalpole_thickness  rh_temporalpole_thickness  \\\n",
       "883                      2.423                      3.351   \n",
       "2404                     2.502                      2.974   \n",
       "1699                     2.518                      3.951   \n",
       "3380                     2.814                      3.612   \n",
       "2284                     2.528                      2.447   \n",
       "\n",
       "      rh_transversetemporal_thickness  rh_insula_thickness  \\\n",
       "883                             2.447                2.759   \n",
       "2404                            2.195                2.686   \n",
       "1699                            2.571                2.859   \n",
       "3380                            2.259                3.057   \n",
       "2284                            2.080                2.569   \n",
       "\n",
       "      rh_MeanThickness_thickness  BrainSegVolNotVent.2       eTIV.1  dataset  \n",
       "883                      2.26196               1210251  1753222.710        1  \n",
       "2404                     2.24386                968762  1386457.527        5  \n",
       "1699                     2.44303               1213217  1587806.747        4  \n",
       "3380                     2.51059               1098123  1418487.708        8  \n",
       "2284                     2.17751                729661  1237152.881        5  \n",
       "\n",
       "[5 rows x 140 columns]"
      ]
     },
     "execution_count": 4,
     "metadata": {},
     "output_type": "execute_result"
    }
   ],
   "source": [
    "# Split the data into training and testing sets. The output label of the data is the age\n",
    "#80% data is for training and 20% for testing\n",
    "X_train, X_test, y_train, y_test = train_test_split(data.drop('Age', axis=1), data['Age'], test_size=0.2, random_state=0)\n",
    "X_train.head() # print the first 5 records"
   ]
  },
  {
   "cell_type": "code",
   "execution_count": 5,
   "metadata": {},
   "outputs": [
    {
     "name": "stdout",
     "output_type": "stream",
     "text": [
      "(3380, 140)\n"
     ]
    }
   ],
   "source": [
    "#Number of data points and number of features for each data point\n",
    "print(X_train.shape)"
   ]
  },
  {
   "cell_type": "code",
   "execution_count": 10,
   "metadata": {},
   "outputs": [
    {
     "name": "stdout",
     "output_type": "stream",
     "text": [
      "Ridge regression: Train\n",
      "Train Mean squared error (MSE):  54.368301773508804\n",
      "Train Root Mean squared error (RMSE):  7.373486405595985\n",
      "Train R2 Score:  0.8633872671090052\n"
     ]
    }
   ],
   "source": [
    "# Fit the model\n",
    "#Penalty\n",
    "regularization_strength = 0.5\n",
    "model_ridge = Ridge(alpha=regularization_strength)\n",
    "model_ridge.fit(X_train, y_train)\n",
    "\n",
    "# Calculate the mean squared error on train data\n",
    "y_pred = model_ridge.predict(X_train)\n",
    "mse_train = mean_squared_error(y_train, y_pred)\n",
    "rmse_train = sqrt(mse_train)\n",
    "r2_score_train = r2_score(y_train, y_pred)\n",
    "\n",
    "print('Ridge regression: Train')\n",
    "print('Train Mean squared error (MSE): ', mse_train)\n",
    "print('Train Root Mean squared error (RMSE): ', rmse_train)\n",
    "print('Train R2 Score: ', r2_score_train)"
   ]
  },
  {
   "cell_type": "code",
   "execution_count": 11,
   "metadata": {},
   "outputs": [
    {
     "name": "stdout",
     "output_type": "stream",
     "text": [
      "Ridge regression: Test\n",
      "Test Mean squared error (MSE):  62.92796690818672\n",
      "Test Root Mean squared error (RMSE):  7.932714977117652\n",
      "R2 Score:  0.8501465123979921\n"
     ]
    }
   ],
   "source": [
    "# Calculate the test mean squared error\n",
    "y_pred = model_ridge.predict(X_test)\n",
    "mse_test = mean_squared_error(y_test, y_pred)\n",
    "\n",
    "rmse_test = sqrt(mse_test)\n",
    "r2_score_test = r2_score(y_test, y_pred)\n",
    "\n",
    "print('Ridge regression: Test')\n",
    "print('Test Mean squared error (MSE): ', mse_test)\n",
    "print('Test Root Mean squared error (RMSE): ', rmse_test)\n",
    "print('R2 Score: ', r2_score_test)"
   ]
  },
  {
   "cell_type": "code",
   "execution_count": 12,
   "metadata": {},
   "outputs": [
    {
     "name": "stdout",
     "output_type": "stream",
     "text": [
      "Ridge regression: Sample predictions\n",
      "  Actual labels:  [27 58 81 53 80 30 60 27 19 90 54 26 74 81 76 77 24 94 23 86] \n",
      " Predicted labels: [23.56209146 48.58179565 67.93996086 49.69091248 86.89987233 30.10547221\n",
      " 64.27179457 27.82983003 33.91326673 87.0930768  39.84087954 26.70476331\n",
      " 75.02546906 67.7584405  65.67257159 82.93490117 30.04493486 84.79482934\n",
      " 29.50680279 73.23445663]\n"
     ]
    }
   ],
   "source": [
    "print('Ridge regression: Sample predictions')\n",
    "# Make predictions on the test set\n",
    "y_pred = model_ridge.predict(X_test[:20])\n",
    "#Print first 20 actual and predicted values\n",
    "print('  Actual labels:  {} \\n Predicted labels: {}'.format(np.array(y_test[:20]), y_pred))"
   ]
  },
  {
   "cell_type": "markdown",
   "metadata": {},
   "source": [
    "# Non-Linear Regression - Neural Nets Model"
   ]
  },
  {
   "cell_type": "code",
   "execution_count": 13,
   "metadata": {
    "scrolled": true
   },
   "outputs": [],
   "source": [
    "#Reloading the data. Not necessary\n",
    "# Load the dataset\n",
    "data = pd.read_excel('.\\\\Dataset #1 - Regression (Brain Age Prediction)\\\\Volumetric_features.xlsx')\n",
    "\n",
    "# Split the data into training and testing sets\n",
    "X_train, X_test, y_train, y_test = train_test_split(data.drop('Age', axis=1), data['Age'], test_size=0.2, random_state=0)"
   ]
  },
  {
   "cell_type": "code",
   "execution_count": 14,
   "metadata": {},
   "outputs": [],
   "source": [
    "# Scale the input data\n",
    "scaler = StandardScaler()\n",
    "\n",
    "#Scale the data\n",
    "X_train = scaler.fit_transform(X_train)\n",
    "X_test = scaler.transform(X_test)\n",
    "\n",
    "# Convert the data to tensors: train\n",
    "inputs = torch.tensor(X_train, dtype=torch.float32)\n",
    "targets = torch.tensor(y_train.values, dtype=torch.float32).unsqueeze(1)\n",
    "\n",
    "inputs_test = torch.tensor(X_test, dtype=torch.float32)\n",
    "targets_test = torch.tensor(y_test.values, dtype=torch.float32).unsqueeze(1)"
   ]
  },
  {
   "cell_type": "code",
   "execution_count": 15,
   "metadata": {
    "scrolled": true
   },
   "outputs": [],
   "source": [
    "# Four layers Neural network model\n",
    "#relu is the activation function\n",
    "class NonLinearRegressionNet(nn.Module):\n",
    "    def __init__(self, Input, Output):\n",
    "        super(NonLinearRegressionNet, self).__init__()\n",
    "        \n",
    "        self.fc1 = nn.Linear(Input, 64)\n",
    "        self.fc2 = nn.Linear(64, 32)\n",
    "        self.fc3 = nn.Linear(32, 16)\n",
    "        self.fc4 = nn.Linear(16, Output)\n",
    "\n",
    "    def forward(self, x):\n",
    "        x = torch.relu(self.fc1(x))\n",
    "        x = torch.relu(self.fc2(x))\n",
    "        x = torch.relu(self.fc3(x))\n",
    "        x = self.fc4(x)\n",
    "        return x"
   ]
  },
  {
   "cell_type": "code",
   "execution_count": 16,
   "metadata": {},
   "outputs": [],
   "source": [
    "# Create an instance of the model with input dimensions \n",
    "model = NonLinearRegressionNet(Input=140, Output=1) # Input_dimension is 140 (140 features)\n",
    "\n",
    "# Define the loss function and optimizer\n",
    "criterion = nn.MSELoss()\n",
    "learning_rate = 0.001\n",
    "optimizer = optim.Adam(model.parameters(), lr=learning_rate)\n",
    "num_epochs = 2000"
   ]
  },
  {
   "cell_type": "code",
   "execution_count": 17,
   "metadata": {
    "scrolled": true
   },
   "outputs": [
    {
     "name": "stdout",
     "output_type": "stream",
     "text": [
      "-----------Epoch 200/2000-------------- \n",
      " Train Loss: 308.09\n",
      "-----------Epoch 400/2000-------------- \n",
      " Train Loss: 81.62\n",
      "-----------Epoch 600/2000-------------- \n",
      " Train Loss: 39.02\n",
      "-----------Epoch 800/2000-------------- \n",
      " Train Loss: 21.73\n",
      "-----------Epoch 1000/2000-------------- \n",
      " Train Loss: 12.67\n",
      "-----------Epoch 1200/2000-------------- \n",
      " Train Loss: 8.02\n",
      "-----------Epoch 1400/2000-------------- \n",
      " Train Loss: 5.30\n",
      "-----------Epoch 1600/2000-------------- \n",
      " Train Loss: 3.76\n",
      "-----------Epoch 1800/2000-------------- \n",
      " Train Loss: 2.84\n",
      "-----------Epoch 2000/2000-------------- \n",
      " Train Loss: 2.15\n"
     ]
    }
   ],
   "source": [
    "# Train the model\n",
    "Loss = []\n",
    "for epoch in range(num_epochs):\n",
    "    #----------------------Forward pass---------------------------\n",
    "    outputs = model(inputs)\n",
    "    loss = criterion(outputs, targets)\n",
    "    #--------------------Backward and optimize--------------------\n",
    "    optimizer.zero_grad()\n",
    "    loss.backward()\n",
    "    optimizer.step()\n",
    "    Loss.append(loss)\n",
    "    # Print progress\n",
    "    if (epoch+1) % 200 == 0:\n",
    "        print('-----------Epoch {}/{}-------------- \\n Train Loss: {:.2f}'\n",
    "              .format(epoch+1, num_epochs, loss.item()))"
   ]
  },
  {
   "cell_type": "code",
   "execution_count": 43,
   "metadata": {
    "scrolled": true
   },
   "outputs": [
    {
     "data": {
      "image/png": "[encoded data removed]",
      "text/plain": [
       "<Figure size 640x480 with 1 Axes>"
      ]
     },
     "metadata": {},
     "output_type": "display_data"
    }
   ],
   "source": [
    "with torch.no_grad():\n",
    "    plt.plot(Loss)\n",
    "    plt.xlabel('Epochs')\n",
    "    plt.ylabel('MSE')\n",
    "    plt.legend('train')"
   ]
  },
  {
   "cell_type": "code",
   "execution_count": 21,
   "metadata": {},
   "outputs": [
    {
     "name": "stdout",
     "output_type": "stream",
     "text": [
      "Nonlinear Regression: NNet: Train\n",
      "Test Mean squared error (MSE):  tensor(2.1174)\n",
      "Test Root Mean squared error (RMSE):  1.4551131890699676\n",
      "R2 Score:  0.9946796648538803\n"
     ]
    }
   ],
   "source": [
    "#------------------------Make predictions on training data-------------------------\n",
    "with torch.no_grad():\n",
    "    predicted = model(inputs)\n",
    "    mse_train = criterion(predicted, targets)\n",
    "    rmse_train = sqrt(train_loss)\n",
    "    r2_score_train = r2_score(targets, predicted)\n",
    "    \n",
    "    \n",
    "    \n",
    "    print('Nonlinear Regression: NNet: Train')\n",
    "    print('Test Mean squared error (MSE): ', mse_train)\n",
    "    print('Test Root Mean squared error (RMSE): ', rmse_train)\n",
    "    print('R2 Score: ', r2_score_train)\n",
    "    \n",
    "    \n",
    "    "
   ]
  },
  {
   "cell_type": "code",
   "execution_count": 24,
   "metadata": {},
   "outputs": [
    {
     "name": "stdout",
     "output_type": "stream",
     "text": [
      "Nonlinear Regression: NNet: Test\n",
      "Test Mean squared error (MSE):  tensor(77.7614)\n",
      "Test Root Mean squared error (RMSE):  8.818242359757964\n",
      "R2 Score:  0.8148229351275514\n"
     ]
    }
   ],
   "source": [
    "with torch.no_grad():\n",
    "    test_predictions = model(inputs_test)\n",
    "    mse_test = criterion(test_predictions, targets_test)\n",
    "    rmse_test = sqrt(mse_test)\n",
    "    r2_score_test = r2_score(targets_test, test_predictions)\n",
    "    \n",
    "    \n",
    "    \n",
    "    print('Nonlinear Regression: NNet: Test')\n",
    "    print('Test Mean squared error (MSE): ', mse_test)\n",
    "    print('Test Root Mean squared error (RMSE): ', rmse_test)\n",
    "    print('R2 Score: ', r2_score_test)\n",
    "    \n",
    "    "
   ]
  },
  {
   "cell_type": "code",
   "execution_count": 26,
   "metadata": {},
   "outputs": [
    {
     "name": "stdout",
     "output_type": "stream",
     "text": [
      "test_predictions: [27 58 81 53 80 30 60 27 19 90 54 26 74 81 76 77 24 94 23 86] \n",
      "  Actual output : [28, 41, 70, 54, 89, 33, 71, 26, 26, 83, 41, 37, 67, 68, 73, 74, 25, 91, 29, 78]\n"
     ]
    }
   ],
   "source": [
    "# Print the first 20 predictions\n",
    "test_predictions =[ int(x) for x in test_predictions]\n",
    "print('test_predictions: {} \\n  Actual output : {}'.format(np.array(y_test[:20]),(test_predictions[:20])))"
   ]
  },
  {
   "cell_type": "code",
   "execution_count": null,
   "metadata": {},
   "outputs": [],
   "source": []
  },
  {
   "cell_type": "markdown",
   "metadata": {},
   "source": [
    "# Regression Trees "
   ]
  },
  {
   "cell_type": "code",
   "execution_count": 27,
   "metadata": {},
   "outputs": [],
   "source": [
    "# Load the dataset\n",
    "# Reloading as it has been updated in the previous cells\n",
    "data = pd.read_excel('.\\\\Dataset #1 - Regression (Brain Age Prediction)\\\\Volumetric_features.xlsx')\n",
    "\n",
    "# Split the data into training and testing sets\n",
    "X_train, X_test, y_train, y_test = train_test_split(data.drop('Age', axis=1), data['Age'], test_size=0.2, random_state=0)"
   ]
  },
  {
   "cell_type": "code",
   "execution_count": 28,
   "metadata": {},
   "outputs": [
    {
     "data": {
      "text/plain": [
       "DecisionTreeRegressor(max_depth=7)"
      ]
     },
     "execution_count": 28,
     "metadata": {},
     "output_type": "execute_result"
    }
   ],
   "source": [
    "# Fit the model\n",
    "model = DecisionTreeRegressor(criterion='squared_error', splitter='best',max_depth=7)\n",
    "model.fit(X_train, y_train)"
   ]
  },
  {
   "cell_type": "code",
   "execution_count": 29,
   "metadata": {},
   "outputs": [
    {
     "name": "stdout",
     "output_type": "stream",
     "text": [
      "Regression Trees: Train\n",
      "Mean squared error (MSE):  44.15983974606266\n",
      "Root Mean squared error (RMSE):  6.645287032631672\n",
      "R2 Score:  0.8890383514852123\n"
     ]
    }
   ],
   "source": [
    "# Make predictions on the train set\n",
    "y_pred = model.predict(X_train)\n",
    "# Calculate the mean squared error\n",
    "mse_train = mean_squared_error(y_train, y_pred)\n",
    "rmse_train = sqrt(mse_train)\n",
    "r2_score_regression_trees_train = r2_score(y_train, y_pred)\n",
    "print('Regression Trees: Train')\n",
    "print('Mean squared error (MSE): ', mse_train)\n",
    "print('Root Mean squared error (RMSE): ', rmse_train)\n",
    "print('R2 Score: ', r2_score_regression_trees_train)"
   ]
  },
  {
   "cell_type": "code",
   "execution_count": 30,
   "metadata": {},
   "outputs": [
    {
     "name": "stdout",
     "output_type": "stream",
     "text": [
      "Regression Trees: Test\n",
      "Mean squared error (MSE):  89.4900730911041\n",
      "Root Mean squared error (RMSE):  9.45991929622574\n",
      "R2 Score:  0.7868928519806366\n"
     ]
    }
   ],
   "source": [
    "# Make predictions on the test set\n",
    "y_pred = model.predict(X_test)\n",
    "# Calculate the mean squared error\n",
    "mse_test = mean_squared_error(y_test, y_pred)\n",
    "rmse_test = sqrt(mse_test)\n",
    "r2_score_regression_trees_test = r2_score(y_test, y_pred)\n",
    "print('Regression Trees: Test')\n",
    "print('Mean squared error (MSE): ', mse_test)\n",
    "print('Root Mean squared error (RMSE): ', rmse_test)\n",
    "print('R2 Score: ', r2_score_regression_trees_test)"
   ]
  },
  {
   "cell_type": "code",
   "execution_count": 31,
   "metadata": {},
   "outputs": [
    {
     "name": "stdout",
     "output_type": "stream",
     "text": [
      "  Actual labels:  [27 58 81 53 80 30 60 27 19 90 54 26 74 81 76 77 24 94 23 86] \n",
      "Predicted labels: [32, 58, 75, 56, 79, 36, 67, 26, 26, 88, 51, 32, 72, 75, 75, 76, 26, 88, 42, 72]\n"
     ]
    }
   ],
   "source": [
    "#np.set_printoptions(precision=0)\n",
    "#making predictions\n",
    "\n",
    "predictions = model.predict(X_test)\n",
    "predictions = [int(x) for x in predictions]\n",
    "# Print the first 10 predictions\n",
    "#print(predictions[:10])\n",
    "print('  Actual labels:  {} \\nPredicted labels: {}'.format(np.array(y_test[:20]), predictions[:20]))"
   ]
  },
  {
   "cell_type": "code",
   "execution_count": null,
   "metadata": {},
   "outputs": [],
   "source": []
  }
 ],
 "metadata": {
  "kernelspec": {
   "display_name": "Python 3",
   "language": "python",
   "name": "python3"
  },
  "language_info": {
   "codemirror_mode": {
    "name": "ipython",
    "version": 3
   },
   "file_extension": ".py",
   "mimetype": "text/x-python",
   "name": "python",
   "nbconvert_exporter": "python",
   "pygments_lexer": "ipython3",
   "version": "3.8.8"
  }
 },
 "nbformat": 4,
 "nbformat_minor": 4
}
